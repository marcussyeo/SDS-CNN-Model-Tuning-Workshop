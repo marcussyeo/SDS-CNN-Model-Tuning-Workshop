{
  "nbformat": 4,
  "nbformat_minor": 0,
  "metadata": {
    "colab": {
      "provenance": []
    },
    "kernelspec": {
      "name": "python3",
      "display_name": "Python 3"
    },
    "language_info": {
      "name": "python"
    }
  },
  "cells": [
    {
      "cell_type": "markdown",
      "source": [
        "# **Creating a CNN Model and Optimizing Using Keras Tuner**"
      ],
      "metadata": {
        "id": "tvr2ZhLyRI0F"
      }
    },
    {
      "cell_type": "markdown",
      "source": [
        "#### **Importing Libraries**"
      ],
      "metadata": {
        "id": "zd7bubWRPiqT"
      }
    },
    {
      "cell_type": "code",
      "execution_count": 24,
      "metadata": {
        "id": "6U6TIVAVQ45-"
      },
      "outputs": [],
      "source": [
        "#import pandas\n",
        "import pandas as pd\n",
        "#importing numpy\n",
        "import numpy as np\n",
        "# importing matplotlib\n",
        "import matplotlib.pyplot as plt\n",
        "#importing tensorflow\n",
        "import tensorflow as tf\n",
        "#importing keras from tensorflow\n",
        "from tensorflow import keras\n",
        "# importing Sequential from keras\n",
        "from tensorflow.keras.models import Sequential\n",
        "#importing Dense and Conv2D layers from keras\n",
        "from tensorflow.keras.layers import Dense,Conv2D"
      ]
    },
    {
      "cell_type": "markdown",
      "source": [
        "#### **Importing Fashion MNIST Dataset**"
      ],
      "metadata": {
        "id": "s7rwkrD_Ptai"
      }
    },
    {
      "cell_type": "code",
      "source": [
        "df = tf.keras.datasets.fashion_mnist\n",
        "# spliting the data into train and testing part\n",
        "(train_df,train_labl),(test_df,test_labl) = df.load_data()"
      ],
      "metadata": {
        "id": "B_iaEUhQPMAy",
        "colab": {
          "base_uri": "https://localhost:8080/"
        },
        "outputId": "f996a616-c3c4-438b-dbf9-eac28050cd0e"
      },
      "execution_count": 2,
      "outputs": [
        {
          "output_type": "stream",
          "name": "stdout",
          "text": [
            "Downloading data from https://storage.googleapis.com/tensorflow/tf-keras-datasets/train-labels-idx1-ubyte.gz\n",
            "29515/29515 [==============================] - 0s 0us/step\n",
            "Downloading data from https://storage.googleapis.com/tensorflow/tf-keras-datasets/train-images-idx3-ubyte.gz\n",
            "26421880/26421880 [==============================] - 0s 0us/step\n",
            "Downloading data from https://storage.googleapis.com/tensorflow/tf-keras-datasets/t10k-labels-idx1-ubyte.gz\n",
            "5148/5148 [==============================] - 0s 0us/step\n",
            "Downloading data from https://storage.googleapis.com/tensorflow/tf-keras-datasets/t10k-images-idx3-ubyte.gz\n",
            "4422102/4422102 [==============================] - 0s 0us/step\n"
          ]
        }
      ]
    },
    {
      "cell_type": "code",
      "source": [
        "class_names = ['T-shirt/top', 'Trouser', 'Pullover', 'Dress', 'Coat',\n",
        "               'Sandal', 'Shirt', 'Sneaker', 'Bag', 'Ankle boot']"
      ],
      "metadata": {
        "id": "z7EPh24SQy7K"
      },
      "execution_count": 22,
      "outputs": []
    },
    {
      "cell_type": "code",
      "source": [
        "train_df.shape"
      ],
      "metadata": {
        "colab": {
          "base_uri": "https://localhost:8080/"
        },
        "id": "h6v-bv8KRENT",
        "outputId": "bc364074-7cc5-46aa-e52c-7f5ae4d34282"
      },
      "execution_count": 27,
      "outputs": [
        {
          "output_type": "execute_result",
          "data": {
            "text/plain": [
              "(60000, 28, 28, 1)"
            ]
          },
          "metadata": {},
          "execution_count": 27
        }
      ]
    },
    {
      "cell_type": "code",
      "source": [
        "# plt.figure(figsize=(10,10));\n",
        "# for i in range(25):\n",
        "#     plt.subplot(5,5,i+1);\n",
        "#     plt.xticks([]);\n",
        "#     plt.yticks([]);\n",
        "#     plt.grid(False);\n",
        "#     plt.imshow(train_df[i], cmap=plt.cm.binary);\n",
        "#     plt.xlabel(class_names[train_df[i]]);\n",
        "# plt.show();"
      ],
      "metadata": {
        "id": "yRms8v_eQJoU"
      },
      "execution_count": 32,
      "outputs": []
    },
    {
      "cell_type": "markdown",
      "source": [
        "#### **Scaling and Reshaping Images**"
      ],
      "metadata": {
        "id": "9r2UMIzfRnqx"
      }
    },
    {
      "cell_type": "code",
      "source": [
        "#scaling the train data\n",
        "train_df=train_df/255.0\n",
        "#scaling test data\n",
        "test_df = test_df/255.0"
      ],
      "metadata": {
        "id": "IuFLAYVs61TR"
      },
      "execution_count": 7,
      "outputs": []
    },
    {
      "cell_type": "code",
      "source": [
        "#rehaping the images into equal dim.\n",
        "train_df = train_df.reshape(len(train_df),28,28,1)\n",
        "test_df = test_df.reshape(len(test_df),28,28,1)"
      ],
      "metadata": {
        "id": "HMD8_Tl0628y"
      },
      "execution_count": 9,
      "outputs": []
    },
    {
      "cell_type": "markdown",
      "source": [
        "#### **Hypertuning the Model**"
      ],
      "metadata": {
        "id": "uwfp2vT-RwhR"
      }
    },
    {
      "cell_type": "code",
      "source": [
        "def build_model(hp):\n",
        "    # create model object\n",
        "    model = keras.Sequential([\n",
        "    #adding first convolutional layer    \n",
        "    keras.layers.Conv2D(\n",
        "        #adding filter \n",
        "        filters=hp.Int('conv_1_filter', min_value=32, max_value=128, step=16),\n",
        "        # adding filter size or kernel size\n",
        "        kernel_size=hp.Choice('conv_1_kernel', values = [3,5]),\n",
        "        #activation function\n",
        "        activation='relu',\n",
        "        input_shape=(28,28,1)),\n",
        "    # adding second convolutional layer \n",
        "    keras.layers.Conv2D(\n",
        "        #adding filter \n",
        "        filters=hp.Int('conv_2_filter', min_value=32, max_value=64, step=16),\n",
        "        #adding filter size or kernel size\n",
        "        kernel_size=hp.Choice('conv_2_kernel', values = [3,5]),\n",
        "        #activation function\n",
        "        activation='relu'\n",
        "    ),\n",
        "    # adding flatten layer    \n",
        "    keras.layers.Flatten(),\n",
        "    # adding dense layer    \n",
        "    keras.layers.Dense(\n",
        "        units=hp.Int('dense_1_units', min_value=32, max_value=128, step=16),\n",
        "        activation='relu'\n",
        "    ),\n",
        "    # output layer    \n",
        "    keras.layers.Dense(10, activation='softmax')\n",
        "    ])\n",
        "    #compilation of model\n",
        "    model.compile(optimizer=keras.optimizers.Adam(hp.Choice('learning_rate', values=[1e-2, 1e-3])),\n",
        "              loss='sparse_categorical_crossentropy',\n",
        "              metrics=['accuracy'])\n",
        "    return model"
      ],
      "metadata": {
        "id": "nXWLoP-27EPE"
      },
      "execution_count": 10,
      "outputs": []
    },
    {
      "cell_type": "markdown",
      "source": [
        "#### **Optimize Model**"
      ],
      "metadata": {
        "id": "Ep8dOrFdR5Za"
      }
    },
    {
      "cell_type": "code",
      "source": [
        "# !pip install keras-tuner"
      ],
      "metadata": {
        "id": "XBAVLHnl7ZO-"
      },
      "execution_count": 33,
      "outputs": []
    },
    {
      "cell_type": "code",
      "source": [
        "#importing random search\n",
        "from kerastuner import RandomSearch\n",
        "#creating randomsearch object\n",
        "tuner = RandomSearch(build_model,\n",
        "                    objective='val_accuracy',\n",
        "                    max_trials = 2)\n",
        "# search best parameter\n",
        "tuner.search(train_df,train_labl,epochs=1,validation_data=(train_df,train_labl))"
      ],
      "metadata": {
        "colab": {
          "base_uri": "https://localhost:8080/"
        },
        "id": "zmBusmiM7LM4",
        "outputId": "3123d120-f1ea-4b2c-d7f1-f6e0d7dd4b8f"
      },
      "execution_count": 14,
      "outputs": [
        {
          "output_type": "stream",
          "name": "stdout",
          "text": [
            "Trial 2 Complete [00h 07m 24s]\n",
            "val_accuracy: 0.8964833617210388\n",
            "\n",
            "Best val_accuracy So Far: 0.8964833617210388\n",
            "Total elapsed time: 00h 24m 51s\n"
          ]
        }
      ]
    },
    {
      "cell_type": "code",
      "source": [
        "model=tuner.get_best_models(num_models=1)[0]\n",
        "#summary of best model\n",
        "model.summary()"
      ],
      "metadata": {
        "colab": {
          "base_uri": "https://localhost:8080/"
        },
        "id": "WbJJ-igNHQks",
        "outputId": "dd094551-a9a5-4a85-be44-71d96ece328a"
      },
      "execution_count": 17,
      "outputs": [
        {
          "output_type": "stream",
          "name": "stdout",
          "text": [
            "Model: \"sequential\"\n",
            "_________________________________________________________________\n",
            " Layer (type)                Output Shape              Param #   \n",
            "=================================================================\n",
            " conv2d (Conv2D)             (None, 24, 24, 64)        1664      \n",
            "                                                                 \n",
            " conv2d_1 (Conv2D)           (None, 20, 20, 32)        51232     \n",
            "                                                                 \n",
            " flatten (Flatten)           (None, 12800)             0         \n",
            "                                                                 \n",
            " dense (Dense)               (None, 64)                819264    \n",
            "                                                                 \n",
            " dense_1 (Dense)             (None, 10)                650       \n",
            "                                                                 \n",
            "=================================================================\n",
            "Total params: 872,810\n",
            "Trainable params: 872,810\n",
            "Non-trainable params: 0\n",
            "_________________________________________________________________\n"
          ]
        }
      ]
    },
    {
      "cell_type": "markdown",
      "source": [
        "#### **Fitting Data**"
      ],
      "metadata": {
        "id": "7dOwR285Sqow"
      }
    },
    {
      "cell_type": "code",
      "source": [
        "model.fit(test_df,test_labl,\n",
        "          epochs=10,\n",
        "          validation_split=0.1,\n",
        "          initial_epoch=2)"
      ],
      "metadata": {
        "colab": {
          "base_uri": "https://localhost:8080/"
        },
        "id": "HBJ57jnc7PPR",
        "outputId": "80204976-3ec7-4899-f5c1-0c91cff7eb27"
      },
      "execution_count": 18,
      "outputs": [
        {
          "output_type": "stream",
          "name": "stdout",
          "text": [
            "Epoch 3/10\n",
            "282/282 [==============================] - 54s 188ms/step - loss: 0.3236 - accuracy: 0.8822 - val_loss: 0.2963 - val_accuracy: 0.8940\n",
            "Epoch 4/10\n",
            "282/282 [==============================] - 53s 189ms/step - loss: 0.2533 - accuracy: 0.9093 - val_loss: 0.2823 - val_accuracy: 0.9020\n",
            "Epoch 5/10\n",
            "282/282 [==============================] - 55s 195ms/step - loss: 0.2074 - accuracy: 0.9230 - val_loss: 0.3124 - val_accuracy: 0.8900\n",
            "Epoch 6/10\n",
            "282/282 [==============================] - 53s 188ms/step - loss: 0.1646 - accuracy: 0.9422 - val_loss: 0.3557 - val_accuracy: 0.8870\n",
            "Epoch 7/10\n",
            "282/282 [==============================] - 54s 190ms/step - loss: 0.1264 - accuracy: 0.9533 - val_loss: 0.3983 - val_accuracy: 0.8900\n",
            "Epoch 8/10\n",
            "282/282 [==============================] - 53s 189ms/step - loss: 0.1002 - accuracy: 0.9621 - val_loss: 0.3942 - val_accuracy: 0.8980\n",
            "Epoch 9/10\n",
            "282/282 [==============================] - 55s 195ms/step - loss: 0.0804 - accuracy: 0.9712 - val_loss: 0.4070 - val_accuracy: 0.8890\n",
            "Epoch 10/10\n",
            "282/282 [==============================] - 53s 186ms/step - loss: 0.0638 - accuracy: 0.9769 - val_loss: 0.4358 - val_accuracy: 0.8960\n"
          ]
        },
        {
          "output_type": "execute_result",
          "data": {
            "text/plain": [
              "<keras.callbacks.History at 0x7ff67d90b670>"
            ]
          },
          "metadata": {},
          "execution_count": 18
        }
      ]
    },
    {
      "cell_type": "code",
      "source": [],
      "metadata": {
        "id": "jEA1RmqVJQlR"
      },
      "execution_count": null,
      "outputs": []
    }
  ]
}